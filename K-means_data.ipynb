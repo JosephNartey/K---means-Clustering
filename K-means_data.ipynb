{
 "cells": [
  {
   "cell_type": "code",
   "execution_count": 44,
   "metadata": {},
   "outputs": [
    {
     "data": {
      "text/html": [
       "<div>\n",
       "<style scoped>\n",
       "    .dataframe tbody tr th:only-of-type {\n",
       "        vertical-align: middle;\n",
       "    }\n",
       "\n",
       "    .dataframe tbody tr th {\n",
       "        vertical-align: top;\n",
       "    }\n",
       "\n",
       "    .dataframe thead th {\n",
       "        text-align: right;\n",
       "    }\n",
       "</style>\n",
       "<table border=\"1\" class=\"dataframe\">\n",
       "  <thead>\n",
       "    <tr style=\"text-align: right;\">\n",
       "      <th></th>\n",
       "      <th>X1</th>\n",
       "      <th>X2</th>\n",
       "      <th>y</th>\n",
       "      <th>Xval_1</th>\n",
       "      <th>Xval_2</th>\n",
       "      <th>yval</th>\n",
       "    </tr>\n",
       "  </thead>\n",
       "  <tbody>\n",
       "    <tr>\n",
       "      <th>0</th>\n",
       "      <td>-0.15899</td>\n",
       "      <td>0.42398</td>\n",
       "      <td>1</td>\n",
       "      <td>-0.3531</td>\n",
       "      <td>-0.6739</td>\n",
       "      <td>0.0</td>\n",
       "    </tr>\n",
       "    <tr>\n",
       "      <th>1</th>\n",
       "      <td>-0.34793</td>\n",
       "      <td>0.47076</td>\n",
       "      <td>1</td>\n",
       "      <td>-0.2271</td>\n",
       "      <td>0.4473</td>\n",
       "      <td>1.0</td>\n",
       "    </tr>\n",
       "    <tr>\n",
       "      <th>2</th>\n",
       "      <td>-0.50461</td>\n",
       "      <td>0.35380</td>\n",
       "      <td>1</td>\n",
       "      <td>0.0929</td>\n",
       "      <td>-0.7535</td>\n",
       "      <td>0.0</td>\n",
       "    </tr>\n",
       "    <tr>\n",
       "      <th>3</th>\n",
       "      <td>-0.59677</td>\n",
       "      <td>0.11403</td>\n",
       "      <td>1</td>\n",
       "      <td>0.1482</td>\n",
       "      <td>-0.7185</td>\n",
       "      <td>0.0</td>\n",
       "    </tr>\n",
       "    <tr>\n",
       "      <th>4</th>\n",
       "      <td>-0.51843</td>\n",
       "      <td>-0.17252</td>\n",
       "      <td>1</td>\n",
       "      <td>-0.0015</td>\n",
       "      <td>0.1629</td>\n",
       "      <td>0.0</td>\n",
       "    </tr>\n",
       "  </tbody>\n",
       "</table>\n",
       "</div>"
      ],
      "text/plain": [
       "        X1       X2  y  Xval_1  Xval_2  yval\n",
       "0 -0.15899  0.42398  1 -0.3531 -0.6739   0.0\n",
       "1 -0.34793  0.47076  1 -0.2271  0.4473   1.0\n",
       "2 -0.50461  0.35380  1  0.0929 -0.7535   0.0\n",
       "3 -0.59677  0.11403  1  0.1482 -0.7185   0.0\n",
       "4 -0.51843 -0.17252  1 -0.0015  0.1629   0.0"
      ]
     },
     "execution_count": 44,
     "metadata": {},
     "output_type": "execute_result"
    }
   ],
   "source": [
    "%matplotlib inline\n",
    "import numpy as np\n",
    "import pandas as pd\n",
    "import random\n",
    "import matplotlib.pyplot as plt\n",
    "#plt.rcParams['figsize']=(20.0,10.0)\n",
    "\n",
    "#Read the csv data\n",
    "data = pd.read_csv('ex6data3.csv')\n",
    "#print(data.shape)\n",
    "data.head()"
   ]
  },
  {
   "cell_type": "code",
   "execution_count": 46,
   "metadata": {},
   "outputs": [
    {
     "data": {
      "image/png": "[encoded data removed]",
      "text/plain": [
       "<Figure size 432x288 with 1 Axes>"
      ]
     },
     "metadata": {
      "needs_background": "light"
     },
     "output_type": "display_data"
    }
   ],
   "source": [
    "X = data.iloc[:, [0, 1]].values\n",
    "#print(X)\n",
    "\n",
    "#visualize unclustered data\n",
    "plt.scatter(X[:,0],X[:,1],c='purple',label='data_unclustered')\n",
    "plt.xlabel('X_data')\n",
    "plt.ylabel('Y_data')\n",
    "plt.legend()\n",
    "plt.title('Plot showing data points')\n",
    "plt.show()\n"
   ]
  },
  {
   "cell_type": "code",
   "execution_count": 26,
   "metadata": {},
   "outputs": [],
   "source": [
    "m=X.shape[0] #number of training examples\n",
    "n=X.shape[1] #number of features.\n",
    "n_iter=100  #choosing number of iterations\n",
    "K=5         # choosing number of clusters"
   ]
  },
  {
   "cell_type": "code",
   "execution_count": 27,
   "metadata": {},
   "outputs": [],
   "source": [
    "#first step involves iniitializaing centrouids randomly from the data points\n",
    "Centroids=np.array([]).reshape(n,0) "
   ]
  },
  {
   "cell_type": "code",
   "execution_count": 28,
   "metadata": {},
   "outputs": [],
   "source": [
    "#the centroid becomes an n*K dimesional array, Each column for one cluster\n",
    "for i in range(K):\n",
    "    rand=random.randint(0,m-1)\n",
    "    Centroids=np.c_[Centroids,X[rand]]"
   ]
  },
  {
   "cell_type": "code",
   "execution_count": 29,
   "metadata": {},
   "outputs": [],
   "source": [
    "#compute the euclidian distance from the centroid and \n",
    "#assign the cluster based on the minimal distance\n",
    "#output dictionary with cluster number as Keys and the data points \n",
    "Output={} # initializing output\n",
    "EuclidianDistance=np.array([]).reshape(m,0)\n",
    "for k in range(K):\n",
    "    tempDist=np.sum((X-Centroids[:,k])**2,axis=1)\n",
    "    EuclidianDistance=np.c_[EuclidianDistance,tempDist]\n",
    "C=np.argmin(EuclidianDistance,axis=1)+1 "
   ]
  },
  {
   "cell_type": "code",
   "execution_count": 64,
   "metadata": {},
   "outputs": [],
   "source": [
    "#regroup the data points based on the cluster index\n",
    "Y={}\n",
    "for k in range(K):\n",
    "    Y[k+1]=np.array([]).reshape(2,0)\n",
    "for i in range(m):\n",
    "    Y[C[i]]=np.c_[Y[C[i]],X[i]]\n",
    "     \n",
    "for k in range(K):\n",
    "    Y[k+1]=Y[k+1].T\n",
    "    \n",
    "for k in range(K):\n",
    "     Centroids[:,k]=np.mean(Y[k+1],axis=0)"
   ]
  },
  {
   "cell_type": "code",
   "execution_count": 79,
   "metadata": {},
   "outputs": [],
   "source": [
    "#repeat above 2 steps till convergence is achieved\n",
    "for i in range(n_iter):\n",
    "    \n",
    "    EuclidianDistance=np.array([]).reshape(m,0)\n",
    "    for k in range(K):\n",
    "        tempDist=np.sum((X-Centroids[:,k])**2,axis=1)\n",
    "        EuclidianDistance=np.c_[EuclidianDistance,tempDist]\n",
    "    C=np.argmin(EuclidianDistance,axis=1)+1\n",
    "     \n",
    "    Y={}\n",
    "    for k in range(K):\n",
    "        Y[k+1]=np.array([]).reshape(2,0)\n",
    "    for i in range(m):\n",
    "        Y[C[i]]=np.c_[Y[C[i]],X[i]]\n",
    "    for k in range(K):\n",
    "        Y[k+1]=Y[k+1].T\n",
    "    for k in range(K):\n",
    "        Centroids[:,k]=np.mean(Y[k+1],axis=0)\n",
    "    Output=Y\n",
    "#print(Output)"
   ]
  },
  {
   "cell_type": "code",
   "execution_count": 77,
   "metadata": {},
   "outputs": [
    {
     "name": "stdout",
     "output_type": "stream",
     "text": [
      "5\n",
      "red cluster1\n",
      "blue cluster2\n",
      "green cluster3\n",
      "cyan cluster4\n",
      "magenta cluster5\n"
     ]
    },
    {
     "data": {
      "image/png": "[encoded data removed]",
      "text/plain": [
       "<Figure size 432x288 with 1 Axes>"
      ]
     },
     "metadata": {
      "needs_background": "light"
     },
     "output_type": "display_data"
    }
   ],
   "source": [
    "color=['red','blue','green','cyan','magenta']\n",
    "labels=['cluster1','cluster2','cluster3','cluster4','cluster5']\n",
    "print(K)\n",
    "for k in range(0,K):\n",
    "    print(color[k],labels[k])\n",
    "    plt.scatter(Output[k+1][:,0],Output[k+1][:,1],c=color[k],label=labels[k])\n",
    "#     plt.scatter(Output['1'][:,0],Output['1'][:,1],c=color[k],label=labels[k])\n",
    "plt.scatter(Centroids[0,:],Centroids[1,:],s=300,c='yellow',label='Centroids')\n",
    "plt.xlabel('x_data')\n",
    "plt.ylabel('Y_data')\n",
    "plt.legend()\n",
    "plt.show()"
   ]
  },
  {
   "cell_type": "code",
   "execution_count": 78,
   "metadata": {},
   "outputs": [
    {
     "data": {
      "text/html": [
       "<div>\n",
       "<style scoped>\n",
       "    .dataframe tbody tr th:only-of-type {\n",
       "        vertical-align: middle;\n",
       "    }\n",
       "\n",
       "    .dataframe tbody tr th {\n",
       "        vertical-align: top;\n",
       "    }\n",
       "\n",
       "    .dataframe thead th {\n",
       "        text-align: right;\n",
       "    }\n",
       "</style>\n",
       "<table border=\"1\" class=\"dataframe\">\n",
       "  <thead>\n",
       "    <tr style=\"text-align: right;\">\n",
       "      <th></th>\n",
       "      <th>A</th>\n",
       "      <th>B</th>\n",
       "    </tr>\n",
       "  </thead>\n",
       "  <tbody>\n",
       "    <tr>\n",
       "      <th>0</th>\n",
       "      <td>1.8421</td>\n",
       "      <td>4.6076</td>\n",
       "    </tr>\n",
       "    <tr>\n",
       "      <th>1</th>\n",
       "      <td>5.6586</td>\n",
       "      <td>4.8000</td>\n",
       "    </tr>\n",
       "    <tr>\n",
       "      <th>2</th>\n",
       "      <td>6.3526</td>\n",
       "      <td>3.2909</td>\n",
       "    </tr>\n",
       "    <tr>\n",
       "      <th>3</th>\n",
       "      <td>2.9040</td>\n",
       "      <td>4.6122</td>\n",
       "    </tr>\n",
       "    <tr>\n",
       "      <th>4</th>\n",
       "      <td>3.2320</td>\n",
       "      <td>4.9399</td>\n",
       "    </tr>\n",
       "  </tbody>\n",
       "</table>\n",
       "</div>"
      ],
      "text/plain": [
       "        A       B\n",
       "0  1.8421  4.6076\n",
       "1  5.6586  4.8000\n",
       "2  6.3526  3.2909\n",
       "3  2.9040  4.6122\n",
       "4  3.2320  4.9399"
      ]
     },
     "execution_count": 78,
     "metadata": {},
     "output_type": "execute_result"
    }
   ],
   "source": [
    "#Read the second csv data\n",
    "data2 = pd.read_csv('ex7data2.csv')\n",
    "#print(data.shape)\n",
    "data2.head()"
   ]
  },
  {
   "cell_type": "code",
   "execution_count": 81,
   "metadata": {},
   "outputs": [
    {
     "data": {
      "image/png": "[encoded data removed]",
      "text/plain": [
       "<Figure size 432x288 with 1 Axes>"
      ]
     },
     "metadata": {
      "needs_background": "light"
     },
     "output_type": "display_data"
    }
   ],
   "source": [
    "X = data2.iloc[:, [0, 1]].values\n",
    "#print(X)\n",
    "\n",
    "#visualize unclustered data\n",
    "plt.scatter(X[:,0],X[:,1],c='orange',label='data_unclustered')\n",
    "plt.xlabel('X_data')\n",
    "plt.ylabel('Y_data')\n",
    "plt.legend()\n",
    "plt.title('Plot showing data points')\n",
    "plt.show()"
   ]
  },
  {
   "cell_type": "code",
   "execution_count": 82,
   "metadata": {},
   "outputs": [
    {
     "name": "stdout",
     "output_type": "stream",
     "text": [
      "5\n",
      "red cluster1\n",
      "blue cluster2\n",
      "green cluster3\n",
      "cyan cluster4\n",
      "magenta cluster5\n"
     ]
    },
    {
     "data": {
      "image/png": "[encoded data removed]",
      "text/plain": [
       "<Figure size 432x288 with 1 Axes>"
      ]
     },
     "metadata": {
      "needs_background": "light"
     },
     "output_type": "display_data"
    }
   ],
   "source": [
    "m=X.shape[0] #number of training examples\n",
    "n=X.shape[1] #number of features.\n",
    "n_iter=100  #choosing number of iterations\n",
    "K=5         # choosing number of clusters\n",
    "\n",
    "#first step involves iniitializaing centrouids randomly from the data points\n",
    "Centroids=np.array([]).reshape(n,0) \n",
    "#the centroid becomes an n*K dimesional array, Each column for one cluster\n",
    "for i in range(K):\n",
    "    rand=random.randint(0,m-1)\n",
    "    Centroids=np.c_[Centroids,X[rand]]\n",
    "    \n",
    "#compute the euclidian distance from the centroid and \n",
    "#assign the cluster based on the minimal distance\n",
    "#output dictionary with cluster number as Keys and the data points \n",
    "\n",
    "Output={} # initializing output\n",
    "EuclidianDistance=np.array([]).reshape(m,0)\n",
    "for k in range(K):\n",
    "    tempDist=np.sum((X-Centroids[:,k])**2,axis=1)\n",
    "    EuclidianDistance=np.c_[EuclidianDistance,tempDist]\n",
    "C=np.argmin(EuclidianDistance,axis=1)+1 \n",
    "\n",
    "#regroup the data points based on the cluster index\n",
    "Y={}\n",
    "for k in range(K):\n",
    "    Y[k+1]=np.array([]).reshape(2,0)\n",
    "for i in range(m):\n",
    "    Y[C[i]]=np.c_[Y[C[i]],X[i]]\n",
    "     \n",
    "for k in range(K):\n",
    "    Y[k+1]=Y[k+1].T\n",
    "    \n",
    "for k in range(K):\n",
    "     Centroids[:,k]=np.mean(Y[k+1],axis=0)\n",
    "#repeat above 2 steps till convergence is achieved\n",
    "for i in range(n_iter):\n",
    "    \n",
    "    EuclidianDistance=np.array([]).reshape(m,0)\n",
    "    for k in range(K):\n",
    "        tempDist=np.sum((X-Centroids[:,k])**2,axis=1)\n",
    "        EuclidianDistance=np.c_[EuclidianDistance,tempDist]\n",
    "    C=np.argmin(EuclidianDistance,axis=1)+1\n",
    "     \n",
    "    Y={}\n",
    "    for k in range(K):\n",
    "        Y[k+1]=np.array([]).reshape(2,0)\n",
    "    for i in range(m):\n",
    "        Y[C[i]]=np.c_[Y[C[i]],X[i]]\n",
    "    for k in range(K):\n",
    "        Y[k+1]=Y[k+1].T\n",
    "    for k in range(K):\n",
    "        Centroids[:,k]=np.mean(Y[k+1],axis=0)\n",
    "    Output=Y\n",
    "#print(Output)\n",
    "\n",
    "color=['red','blue','green','cyan','magenta']\n",
    "labels=['cluster1','cluster2','cluster3','cluster4','cluster5']\n",
    "print(K)\n",
    "for k in range(0,K):\n",
    "    print(color[k],labels[k])\n",
    "    plt.scatter(Output[k+1][:,0],Output[k+1][:,1],c=color[k],label=labels[k])\n",
    "#     plt.scatter(Output['1'][:,0],Output['1'][:,1],c=color[k],label=labels[k])\n",
    "plt.scatter(Centroids[0,:],Centroids[1,:],s=300,c='yellow',label='Centroids')\n",
    "plt.xlabel('x_data')\n",
    "plt.ylabel('Y_data')\n",
    "plt.legend()\n",
    "plt.show()"
   ]
  },
  {
   "cell_type": "code",
   "execution_count": null,
   "metadata": {},
   "outputs": [],
   "source": []
  }
 ],
 "metadata": {
  "kernelspec": {
   "display_name": "Python 3",
   "language": "python",
   "name": "python3"
  },
  "language_info": {
   "codemirror_mode": {
    "name": "ipython",
    "version": 3
   },
   "file_extension": ".py",
   "mimetype": "text/x-python",
   "name": "python",
   "nbconvert_exporter": "python",
   "pygments_lexer": "ipython3",
   "version": "3.7.1"
  }
 },
 "nbformat": 4,
 "nbformat_minor": 2
}
